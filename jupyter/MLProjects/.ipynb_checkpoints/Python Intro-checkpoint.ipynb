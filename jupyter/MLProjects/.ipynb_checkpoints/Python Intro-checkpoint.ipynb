{
 "cells": [
  {
   "cell_type": "code",
   "execution_count": 1,
   "metadata": {},
   "outputs": [],
   "source": [
    "# I already have some experience with python, so I will just skim these lessons"
   ]
  },
  {
   "cell_type": "code",
   "execution_count": 2,
   "metadata": {},
   "outputs": [],
   "source": [
    "# This lesson was completely focused on a basic level. What is a variable, variable types, Lists, Arrays. This \n",
    "# would be helpful for a beginner"
   ]
  },
  {
   "cell_type": "code",
   "execution_count": 1,
   "metadata": {},
   "outputs": [],
   "source": [
    "import pandas as pd"
   ]
  },
  {
   "cell_type": "code",
   "execution_count": 2,
   "metadata": {},
   "outputs": [],
   "source": [
    "data = pd.read_csv(\"lsd_math_score_data.csv\")"
   ]
  },
  {
   "cell_type": "code",
   "execution_count": 3,
   "metadata": {},
   "outputs": [
    {
     "name": "stdout",
     "output_type": "stream",
     "text": [
      "   Time_Delay_in_Minutes  LSD_ppm  Avg_Math_Test_Score\n",
      "0                      5     1.17                78.93\n",
      "1                     15     2.97                58.20\n",
      "2                     30     3.26                67.47\n",
      "3                     60     4.69                37.47\n",
      "4                    120     5.83                45.65\n",
      "5                    240     6.00                32.92\n",
      "6                    480     6.41                29.97\n"
     ]
    }
   ],
   "source": [
    "print(data)"
   ]
  },
  {
   "cell_type": "code",
   "execution_count": 4,
   "metadata": {},
   "outputs": [
    {
     "data": {
      "text/plain": [
       "pandas.core.frame.DataFrame"
      ]
     },
     "execution_count": 4,
     "metadata": {},
     "output_type": "execute_result"
    }
   ],
   "source": [
    "type(data)"
   ]
  },
  {
   "cell_type": "code",
   "execution_count": 5,
   "metadata": {},
   "outputs": [
    {
     "data": {
      "text/plain": [
       "0      5\n",
       "1     15\n",
       "2     30\n",
       "3     60\n",
       "4    120\n",
       "5    240\n",
       "6    480\n",
       "Name: Time_Delay_in_Minutes, dtype: int64"
      ]
     },
     "execution_count": 5,
     "metadata": {},
     "output_type": "execute_result"
    }
   ],
   "source": [
    "data[\"Time_Delay_in_Minutes\"]"
   ]
  },
  {
   "cell_type": "code",
   "execution_count": 6,
   "metadata": {},
   "outputs": [],
   "source": [
    "data[\"Test_Subject\"] = \"Test\""
   ]
  },
  {
   "cell_type": "code",
   "execution_count": 7,
   "metadata": {},
   "outputs": [
    {
     "data": {
      "text/html": [
       "<div>\n",
       "<style scoped>\n",
       "    .dataframe tbody tr th:only-of-type {\n",
       "        vertical-align: middle;\n",
       "    }\n",
       "\n",
       "    .dataframe tbody tr th {\n",
       "        vertical-align: top;\n",
       "    }\n",
       "\n",
       "    .dataframe thead th {\n",
       "        text-align: right;\n",
       "    }\n",
       "</style>\n",
       "<table border=\"1\" class=\"dataframe\">\n",
       "  <thead>\n",
       "    <tr style=\"text-align: right;\">\n",
       "      <th></th>\n",
       "      <th>Time_Delay_in_Minutes</th>\n",
       "      <th>LSD_ppm</th>\n",
       "      <th>Avg_Math_Test_Score</th>\n",
       "      <th>Test_Subject</th>\n",
       "    </tr>\n",
       "  </thead>\n",
       "  <tbody>\n",
       "    <tr>\n",
       "      <th>0</th>\n",
       "      <td>5</td>\n",
       "      <td>1.17</td>\n",
       "      <td>78.93</td>\n",
       "      <td>Test</td>\n",
       "    </tr>\n",
       "    <tr>\n",
       "      <th>1</th>\n",
       "      <td>15</td>\n",
       "      <td>2.97</td>\n",
       "      <td>58.20</td>\n",
       "      <td>Test</td>\n",
       "    </tr>\n",
       "    <tr>\n",
       "      <th>2</th>\n",
       "      <td>30</td>\n",
       "      <td>3.26</td>\n",
       "      <td>67.47</td>\n",
       "      <td>Test</td>\n",
       "    </tr>\n",
       "    <tr>\n",
       "      <th>3</th>\n",
       "      <td>60</td>\n",
       "      <td>4.69</td>\n",
       "      <td>37.47</td>\n",
       "      <td>Test</td>\n",
       "    </tr>\n",
       "    <tr>\n",
       "      <th>4</th>\n",
       "      <td>120</td>\n",
       "      <td>5.83</td>\n",
       "      <td>45.65</td>\n",
       "      <td>Test</td>\n",
       "    </tr>\n",
       "    <tr>\n",
       "      <th>5</th>\n",
       "      <td>240</td>\n",
       "      <td>6.00</td>\n",
       "      <td>32.92</td>\n",
       "      <td>Test</td>\n",
       "    </tr>\n",
       "    <tr>\n",
       "      <th>6</th>\n",
       "      <td>480</td>\n",
       "      <td>6.41</td>\n",
       "      <td>29.97</td>\n",
       "      <td>Test</td>\n",
       "    </tr>\n",
       "  </tbody>\n",
       "</table>\n",
       "</div>"
      ],
      "text/plain": [
       "   Time_Delay_in_Minutes  LSD_ppm  Avg_Math_Test_Score Test_Subject\n",
       "0                      5     1.17                78.93         Test\n",
       "1                     15     2.97                58.20         Test\n",
       "2                     30     3.26                67.47         Test\n",
       "3                     60     4.69                37.47         Test\n",
       "4                    120     5.83                45.65         Test\n",
       "5                    240     6.00                32.92         Test\n",
       "6                    480     6.41                29.97         Test"
      ]
     },
     "execution_count": 7,
     "metadata": {},
     "output_type": "execute_result"
    }
   ],
   "source": [
    "data"
   ]
  },
  {
   "cell_type": "code",
   "execution_count": 8,
   "metadata": {},
   "outputs": [],
   "source": [
    "data[\"High_Score\"] = 100"
   ]
  },
  {
   "cell_type": "code",
   "execution_count": 9,
   "metadata": {},
   "outputs": [],
   "source": [
    "data[\"High_Score\"] = data[\"High_Score\"] + data[\"Avg_Math_Test_Score\"]"
   ]
  },
  {
   "cell_type": "code",
   "execution_count": 10,
   "metadata": {},
   "outputs": [
    {
     "data": {
      "text/html": [
       "<div>\n",
       "<style scoped>\n",
       "    .dataframe tbody tr th:only-of-type {\n",
       "        vertical-align: middle;\n",
       "    }\n",
       "\n",
       "    .dataframe tbody tr th {\n",
       "        vertical-align: top;\n",
       "    }\n",
       "\n",
       "    .dataframe thead th {\n",
       "        text-align: right;\n",
       "    }\n",
       "</style>\n",
       "<table border=\"1\" class=\"dataframe\">\n",
       "  <thead>\n",
       "    <tr style=\"text-align: right;\">\n",
       "      <th></th>\n",
       "      <th>Time_Delay_in_Minutes</th>\n",
       "      <th>LSD_ppm</th>\n",
       "      <th>Avg_Math_Test_Score</th>\n",
       "      <th>Test_Subject</th>\n",
       "      <th>High_Score</th>\n",
       "    </tr>\n",
       "  </thead>\n",
       "  <tbody>\n",
       "    <tr>\n",
       "      <th>0</th>\n",
       "      <td>5</td>\n",
       "      <td>1.17</td>\n",
       "      <td>78.93</td>\n",
       "      <td>Test</td>\n",
       "      <td>178.93</td>\n",
       "    </tr>\n",
       "    <tr>\n",
       "      <th>1</th>\n",
       "      <td>15</td>\n",
       "      <td>2.97</td>\n",
       "      <td>58.20</td>\n",
       "      <td>Test</td>\n",
       "      <td>158.20</td>\n",
       "    </tr>\n",
       "    <tr>\n",
       "      <th>2</th>\n",
       "      <td>30</td>\n",
       "      <td>3.26</td>\n",
       "      <td>67.47</td>\n",
       "      <td>Test</td>\n",
       "      <td>167.47</td>\n",
       "    </tr>\n",
       "    <tr>\n",
       "      <th>3</th>\n",
       "      <td>60</td>\n",
       "      <td>4.69</td>\n",
       "      <td>37.47</td>\n",
       "      <td>Test</td>\n",
       "      <td>137.47</td>\n",
       "    </tr>\n",
       "    <tr>\n",
       "      <th>4</th>\n",
       "      <td>120</td>\n",
       "      <td>5.83</td>\n",
       "      <td>45.65</td>\n",
       "      <td>Test</td>\n",
       "      <td>145.65</td>\n",
       "    </tr>\n",
       "    <tr>\n",
       "      <th>5</th>\n",
       "      <td>240</td>\n",
       "      <td>6.00</td>\n",
       "      <td>32.92</td>\n",
       "      <td>Test</td>\n",
       "      <td>132.92</td>\n",
       "    </tr>\n",
       "    <tr>\n",
       "      <th>6</th>\n",
       "      <td>480</td>\n",
       "      <td>6.41</td>\n",
       "      <td>29.97</td>\n",
       "      <td>Test</td>\n",
       "      <td>129.97</td>\n",
       "    </tr>\n",
       "  </tbody>\n",
       "</table>\n",
       "</div>"
      ],
      "text/plain": [
       "   Time_Delay_in_Minutes  LSD_ppm  Avg_Math_Test_Score Test_Subject  \\\n",
       "0                      5     1.17                78.93         Test   \n",
       "1                     15     2.97                58.20         Test   \n",
       "2                     30     3.26                67.47         Test   \n",
       "3                     60     4.69                37.47         Test   \n",
       "4                    120     5.83                45.65         Test   \n",
       "5                    240     6.00                32.92         Test   \n",
       "6                    480     6.41                29.97         Test   \n",
       "\n",
       "   High_Score  \n",
       "0      178.93  \n",
       "1      158.20  \n",
       "2      167.47  \n",
       "3      137.47  \n",
       "4      145.65  \n",
       "5      132.92  \n",
       "6      129.97  "
      ]
     },
     "execution_count": 10,
     "metadata": {},
     "output_type": "execute_result"
    }
   ],
   "source": [
    "data"
   ]
  },
  {
   "cell_type": "code",
   "execution_count": 11,
   "metadata": {},
   "outputs": [],
   "source": [
    "data[\"High_Score\"]*=data[\"High_Score\"]"
   ]
  },
  {
   "cell_type": "code",
   "execution_count": 12,
   "metadata": {},
   "outputs": [
    {
     "data": {
      "text/html": [
       "<div>\n",
       "<style scoped>\n",
       "    .dataframe tbody tr th:only-of-type {\n",
       "        vertical-align: middle;\n",
       "    }\n",
       "\n",
       "    .dataframe tbody tr th {\n",
       "        vertical-align: top;\n",
       "    }\n",
       "\n",
       "    .dataframe thead th {\n",
       "        text-align: right;\n",
       "    }\n",
       "</style>\n",
       "<table border=\"1\" class=\"dataframe\">\n",
       "  <thead>\n",
       "    <tr style=\"text-align: right;\">\n",
       "      <th></th>\n",
       "      <th>Time_Delay_in_Minutes</th>\n",
       "      <th>LSD_ppm</th>\n",
       "      <th>Avg_Math_Test_Score</th>\n",
       "      <th>Test_Subject</th>\n",
       "      <th>High_Score</th>\n",
       "    </tr>\n",
       "  </thead>\n",
       "  <tbody>\n",
       "    <tr>\n",
       "      <th>0</th>\n",
       "      <td>5</td>\n",
       "      <td>1.17</td>\n",
       "      <td>78.93</td>\n",
       "      <td>Test</td>\n",
       "      <td>32015.9449</td>\n",
       "    </tr>\n",
       "    <tr>\n",
       "      <th>1</th>\n",
       "      <td>15</td>\n",
       "      <td>2.97</td>\n",
       "      <td>58.20</td>\n",
       "      <td>Test</td>\n",
       "      <td>25027.2400</td>\n",
       "    </tr>\n",
       "    <tr>\n",
       "      <th>2</th>\n",
       "      <td>30</td>\n",
       "      <td>3.26</td>\n",
       "      <td>67.47</td>\n",
       "      <td>Test</td>\n",
       "      <td>28046.2009</td>\n",
       "    </tr>\n",
       "    <tr>\n",
       "      <th>3</th>\n",
       "      <td>60</td>\n",
       "      <td>4.69</td>\n",
       "      <td>37.47</td>\n",
       "      <td>Test</td>\n",
       "      <td>18898.0009</td>\n",
       "    </tr>\n",
       "    <tr>\n",
       "      <th>4</th>\n",
       "      <td>120</td>\n",
       "      <td>5.83</td>\n",
       "      <td>45.65</td>\n",
       "      <td>Test</td>\n",
       "      <td>21213.9225</td>\n",
       "    </tr>\n",
       "    <tr>\n",
       "      <th>5</th>\n",
       "      <td>240</td>\n",
       "      <td>6.00</td>\n",
       "      <td>32.92</td>\n",
       "      <td>Test</td>\n",
       "      <td>17667.7264</td>\n",
       "    </tr>\n",
       "    <tr>\n",
       "      <th>6</th>\n",
       "      <td>480</td>\n",
       "      <td>6.41</td>\n",
       "      <td>29.97</td>\n",
       "      <td>Test</td>\n",
       "      <td>16892.2009</td>\n",
       "    </tr>\n",
       "  </tbody>\n",
       "</table>\n",
       "</div>"
      ],
      "text/plain": [
       "   Time_Delay_in_Minutes  LSD_ppm  Avg_Math_Test_Score Test_Subject  \\\n",
       "0                      5     1.17                78.93         Test   \n",
       "1                     15     2.97                58.20         Test   \n",
       "2                     30     3.26                67.47         Test   \n",
       "3                     60     4.69                37.47         Test   \n",
       "4                    120     5.83                45.65         Test   \n",
       "5                    240     6.00                32.92         Test   \n",
       "6                    480     6.41                29.97         Test   \n",
       "\n",
       "   High_Score  \n",
       "0  32015.9449  \n",
       "1  25027.2400  \n",
       "2  28046.2009  \n",
       "3  18898.0009  \n",
       "4  21213.9225  \n",
       "5  17667.7264  \n",
       "6  16892.2009  "
      ]
     },
     "execution_count": 12,
     "metadata": {},
     "output_type": "execute_result"
    }
   ],
   "source": [
    "data"
   ]
  },
  {
   "cell_type": "code",
   "execution_count": 18,
   "metadata": {},
   "outputs": [],
   "source": [
    "columnList = [\"LSD_ppm\", \"Avg_Math_Test_Score\"]"
   ]
  },
  {
   "cell_type": "code",
   "execution_count": 19,
   "metadata": {},
   "outputs": [],
   "source": [
    "cleanData = data[columnList]"
   ]
  },
  {
   "cell_type": "code",
   "execution_count": 17,
   "metadata": {},
   "outputs": [
    {
     "data": {
      "text/html": [
       "<div>\n",
       "<style scoped>\n",
       "    .dataframe tbody tr th:only-of-type {\n",
       "        vertical-align: middle;\n",
       "    }\n",
       "\n",
       "    .dataframe tbody tr th {\n",
       "        vertical-align: top;\n",
       "    }\n",
       "\n",
       "    .dataframe thead th {\n",
       "        text-align: right;\n",
       "    }\n",
       "</style>\n",
       "<table border=\"1\" class=\"dataframe\">\n",
       "  <thead>\n",
       "    <tr style=\"text-align: right;\">\n",
       "      <th></th>\n",
       "      <th>LSD_ppm</th>\n",
       "      <th>Avg_Math_Test_Score</th>\n",
       "    </tr>\n",
       "  </thead>\n",
       "  <tbody>\n",
       "    <tr>\n",
       "      <th>0</th>\n",
       "      <td>1.17</td>\n",
       "      <td>78.93</td>\n",
       "    </tr>\n",
       "    <tr>\n",
       "      <th>1</th>\n",
       "      <td>2.97</td>\n",
       "      <td>58.20</td>\n",
       "    </tr>\n",
       "    <tr>\n",
       "      <th>2</th>\n",
       "      <td>3.26</td>\n",
       "      <td>67.47</td>\n",
       "    </tr>\n",
       "    <tr>\n",
       "      <th>3</th>\n",
       "      <td>4.69</td>\n",
       "      <td>37.47</td>\n",
       "    </tr>\n",
       "    <tr>\n",
       "      <th>4</th>\n",
       "      <td>5.83</td>\n",
       "      <td>45.65</td>\n",
       "    </tr>\n",
       "    <tr>\n",
       "      <th>5</th>\n",
       "      <td>6.00</td>\n",
       "      <td>32.92</td>\n",
       "    </tr>\n",
       "    <tr>\n",
       "      <th>6</th>\n",
       "      <td>6.41</td>\n",
       "      <td>29.97</td>\n",
       "    </tr>\n",
       "  </tbody>\n",
       "</table>\n",
       "</div>"
      ],
      "text/plain": [
       "   LSD_ppm  Avg_Math_Test_Score\n",
       "0     1.17                78.93\n",
       "1     2.97                58.20\n",
       "2     3.26                67.47\n",
       "3     4.69                37.47\n",
       "4     5.83                45.65\n",
       "5     6.00                32.92\n",
       "6     6.41                29.97"
      ]
     },
     "execution_count": 17,
     "metadata": {},
     "output_type": "execute_result"
    }
   ],
   "source": [
    "cleanData"
   ]
  },
  {
   "cell_type": "code",
   "execution_count": 21,
   "metadata": {},
   "outputs": [],
   "source": [
    "testing = data[[\"LSD_ppm\", \"Avg_Math_Test_Score\"]]"
   ]
  },
  {
   "cell_type": "code",
   "execution_count": 22,
   "metadata": {},
   "outputs": [
    {
     "data": {
      "text/html": [
       "<div>\n",
       "<style scoped>\n",
       "    .dataframe tbody tr th:only-of-type {\n",
       "        vertical-align: middle;\n",
       "    }\n",
       "\n",
       "    .dataframe tbody tr th {\n",
       "        vertical-align: top;\n",
       "    }\n",
       "\n",
       "    .dataframe thead th {\n",
       "        text-align: right;\n",
       "    }\n",
       "</style>\n",
       "<table border=\"1\" class=\"dataframe\">\n",
       "  <thead>\n",
       "    <tr style=\"text-align: right;\">\n",
       "      <th></th>\n",
       "      <th>LSD_ppm</th>\n",
       "      <th>Avg_Math_Test_Score</th>\n",
       "    </tr>\n",
       "  </thead>\n",
       "  <tbody>\n",
       "    <tr>\n",
       "      <th>0</th>\n",
       "      <td>1.17</td>\n",
       "      <td>78.93</td>\n",
       "    </tr>\n",
       "    <tr>\n",
       "      <th>1</th>\n",
       "      <td>2.97</td>\n",
       "      <td>58.20</td>\n",
       "    </tr>\n",
       "    <tr>\n",
       "      <th>2</th>\n",
       "      <td>3.26</td>\n",
       "      <td>67.47</td>\n",
       "    </tr>\n",
       "    <tr>\n",
       "      <th>3</th>\n",
       "      <td>4.69</td>\n",
       "      <td>37.47</td>\n",
       "    </tr>\n",
       "    <tr>\n",
       "      <th>4</th>\n",
       "      <td>5.83</td>\n",
       "      <td>45.65</td>\n",
       "    </tr>\n",
       "    <tr>\n",
       "      <th>5</th>\n",
       "      <td>6.00</td>\n",
       "      <td>32.92</td>\n",
       "    </tr>\n",
       "    <tr>\n",
       "      <th>6</th>\n",
       "      <td>6.41</td>\n",
       "      <td>29.97</td>\n",
       "    </tr>\n",
       "  </tbody>\n",
       "</table>\n",
       "</div>"
      ],
      "text/plain": [
       "   LSD_ppm  Avg_Math_Test_Score\n",
       "0     1.17                78.93\n",
       "1     2.97                58.20\n",
       "2     3.26                67.47\n",
       "3     4.69                37.47\n",
       "4     5.83                45.65\n",
       "5     6.00                32.92\n",
       "6     6.41                29.97"
      ]
     },
     "execution_count": 22,
     "metadata": {},
     "output_type": "execute_result"
    }
   ],
   "source": [
    "testing"
   ]
  },
  {
   "cell_type": "code",
   "execution_count": 23,
   "metadata": {},
   "outputs": [],
   "source": [
    "#Challenge\n",
    "x = data[[\"LSD_ppm\"]]"
   ]
  },
  {
   "cell_type": "code",
   "execution_count": 24,
   "metadata": {},
   "outputs": [
    {
     "data": {
      "text/html": [
       "<div>\n",
       "<style scoped>\n",
       "    .dataframe tbody tr th:only-of-type {\n",
       "        vertical-align: middle;\n",
       "    }\n",
       "\n",
       "    .dataframe tbody tr th {\n",
       "        vertical-align: top;\n",
       "    }\n",
       "\n",
       "    .dataframe thead th {\n",
       "        text-align: right;\n",
       "    }\n",
       "</style>\n",
       "<table border=\"1\" class=\"dataframe\">\n",
       "  <thead>\n",
       "    <tr style=\"text-align: right;\">\n",
       "      <th></th>\n",
       "      <th>LSD_ppm</th>\n",
       "    </tr>\n",
       "  </thead>\n",
       "  <tbody>\n",
       "    <tr>\n",
       "      <th>0</th>\n",
       "      <td>1.17</td>\n",
       "    </tr>\n",
       "    <tr>\n",
       "      <th>1</th>\n",
       "      <td>2.97</td>\n",
       "    </tr>\n",
       "    <tr>\n",
       "      <th>2</th>\n",
       "      <td>3.26</td>\n",
       "    </tr>\n",
       "    <tr>\n",
       "      <th>3</th>\n",
       "      <td>4.69</td>\n",
       "    </tr>\n",
       "    <tr>\n",
       "      <th>4</th>\n",
       "      <td>5.83</td>\n",
       "    </tr>\n",
       "    <tr>\n",
       "      <th>5</th>\n",
       "      <td>6.00</td>\n",
       "    </tr>\n",
       "    <tr>\n",
       "      <th>6</th>\n",
       "      <td>6.41</td>\n",
       "    </tr>\n",
       "  </tbody>\n",
       "</table>\n",
       "</div>"
      ],
      "text/plain": [
       "   LSD_ppm\n",
       "0     1.17\n",
       "1     2.97\n",
       "2     3.26\n",
       "3     4.69\n",
       "4     5.83\n",
       "5     6.00\n",
       "6     6.41"
      ]
     },
     "execution_count": 24,
     "metadata": {},
     "output_type": "execute_result"
    }
   ],
   "source": [
    "x"
   ]
  },
  {
   "cell_type": "code",
   "execution_count": 25,
   "metadata": {},
   "outputs": [
    {
     "data": {
      "text/plain": [
       "pandas.core.frame.DataFrame"
      ]
     },
     "execution_count": 25,
     "metadata": {},
     "output_type": "execute_result"
    }
   ],
   "source": [
    "type(x)"
   ]
  },
  {
   "cell_type": "code",
   "execution_count": 26,
   "metadata": {},
   "outputs": [],
   "source": [
    "y = data[\"LSD_ppm\"]"
   ]
  },
  {
   "cell_type": "code",
   "execution_count": 27,
   "metadata": {},
   "outputs": [
    {
     "data": {
      "text/plain": [
       "0    1.17\n",
       "1    2.97\n",
       "2    3.26\n",
       "3    4.69\n",
       "4    5.83\n",
       "5    6.00\n",
       "6    6.41\n",
       "Name: LSD_ppm, dtype: float64"
      ]
     },
     "execution_count": 27,
     "metadata": {},
     "output_type": "execute_result"
    }
   ],
   "source": [
    "y"
   ]
  },
  {
   "cell_type": "code",
   "execution_count": 28,
   "metadata": {},
   "outputs": [
    {
     "data": {
      "text/plain": [
       "pandas.core.series.Series"
      ]
     },
     "execution_count": 28,
     "metadata": {},
     "output_type": "execute_result"
    }
   ],
   "source": [
    "type(y)"
   ]
  },
  {
   "cell_type": "code",
   "execution_count": 29,
   "metadata": {},
   "outputs": [
    {
     "data": {
      "text/html": [
       "<div>\n",
       "<style scoped>\n",
       "    .dataframe tbody tr th:only-of-type {\n",
       "        vertical-align: middle;\n",
       "    }\n",
       "\n",
       "    .dataframe tbody tr th {\n",
       "        vertical-align: top;\n",
       "    }\n",
       "\n",
       "    .dataframe thead th {\n",
       "        text-align: right;\n",
       "    }\n",
       "</style>\n",
       "<table border=\"1\" class=\"dataframe\">\n",
       "  <thead>\n",
       "    <tr style=\"text-align: right;\">\n",
       "      <th></th>\n",
       "      <th>Time_Delay_in_Minutes</th>\n",
       "      <th>LSD_ppm</th>\n",
       "      <th>Avg_Math_Test_Score</th>\n",
       "      <th>Test_Subject</th>\n",
       "      <th>High_Score</th>\n",
       "    </tr>\n",
       "  </thead>\n",
       "  <tbody>\n",
       "    <tr>\n",
       "      <th>0</th>\n",
       "      <td>5</td>\n",
       "      <td>1.17</td>\n",
       "      <td>78.93</td>\n",
       "      <td>Test</td>\n",
       "      <td>32015.9449</td>\n",
       "    </tr>\n",
       "    <tr>\n",
       "      <th>1</th>\n",
       "      <td>15</td>\n",
       "      <td>2.97</td>\n",
       "      <td>58.20</td>\n",
       "      <td>Test</td>\n",
       "      <td>25027.2400</td>\n",
       "    </tr>\n",
       "    <tr>\n",
       "      <th>2</th>\n",
       "      <td>30</td>\n",
       "      <td>3.26</td>\n",
       "      <td>67.47</td>\n",
       "      <td>Test</td>\n",
       "      <td>28046.2009</td>\n",
       "    </tr>\n",
       "    <tr>\n",
       "      <th>3</th>\n",
       "      <td>60</td>\n",
       "      <td>4.69</td>\n",
       "      <td>37.47</td>\n",
       "      <td>Test</td>\n",
       "      <td>18898.0009</td>\n",
       "    </tr>\n",
       "    <tr>\n",
       "      <th>4</th>\n",
       "      <td>120</td>\n",
       "      <td>5.83</td>\n",
       "      <td>45.65</td>\n",
       "      <td>Test</td>\n",
       "      <td>21213.9225</td>\n",
       "    </tr>\n",
       "    <tr>\n",
       "      <th>5</th>\n",
       "      <td>240</td>\n",
       "      <td>6.00</td>\n",
       "      <td>32.92</td>\n",
       "      <td>Test</td>\n",
       "      <td>17667.7264</td>\n",
       "    </tr>\n",
       "    <tr>\n",
       "      <th>6</th>\n",
       "      <td>480</td>\n",
       "      <td>6.41</td>\n",
       "      <td>29.97</td>\n",
       "      <td>Test</td>\n",
       "      <td>16892.2009</td>\n",
       "    </tr>\n",
       "  </tbody>\n",
       "</table>\n",
       "</div>"
      ],
      "text/plain": [
       "   Time_Delay_in_Minutes  LSD_ppm  Avg_Math_Test_Score Test_Subject  \\\n",
       "0                      5     1.17                78.93         Test   \n",
       "1                     15     2.97                58.20         Test   \n",
       "2                     30     3.26                67.47         Test   \n",
       "3                     60     4.69                37.47         Test   \n",
       "4                    120     5.83                45.65         Test   \n",
       "5                    240     6.00                32.92         Test   \n",
       "6                    480     6.41                29.97         Test   \n",
       "\n",
       "   High_Score  \n",
       "0  32015.9449  \n",
       "1  25027.2400  \n",
       "2  28046.2009  \n",
       "3  18898.0009  \n",
       "4  21213.9225  \n",
       "5  17667.7264  \n",
       "6  16892.2009  "
      ]
     },
     "execution_count": 29,
     "metadata": {},
     "output_type": "execute_result"
    }
   ],
   "source": [
    "data"
   ]
  },
  {
   "cell_type": "code",
   "execution_count": 30,
   "metadata": {},
   "outputs": [],
   "source": [
    "#Delete a column\n",
    "del data[\"Test_Subject\"]"
   ]
  },
  {
   "cell_type": "code",
   "execution_count": 31,
   "metadata": {},
   "outputs": [
    {
     "data": {
      "text/html": [
       "<div>\n",
       "<style scoped>\n",
       "    .dataframe tbody tr th:only-of-type {\n",
       "        vertical-align: middle;\n",
       "    }\n",
       "\n",
       "    .dataframe tbody tr th {\n",
       "        vertical-align: top;\n",
       "    }\n",
       "\n",
       "    .dataframe thead th {\n",
       "        text-align: right;\n",
       "    }\n",
       "</style>\n",
       "<table border=\"1\" class=\"dataframe\">\n",
       "  <thead>\n",
       "    <tr style=\"text-align: right;\">\n",
       "      <th></th>\n",
       "      <th>Time_Delay_in_Minutes</th>\n",
       "      <th>LSD_ppm</th>\n",
       "      <th>Avg_Math_Test_Score</th>\n",
       "      <th>High_Score</th>\n",
       "    </tr>\n",
       "  </thead>\n",
       "  <tbody>\n",
       "    <tr>\n",
       "      <th>0</th>\n",
       "      <td>5</td>\n",
       "      <td>1.17</td>\n",
       "      <td>78.93</td>\n",
       "      <td>32015.9449</td>\n",
       "    </tr>\n",
       "    <tr>\n",
       "      <th>1</th>\n",
       "      <td>15</td>\n",
       "      <td>2.97</td>\n",
       "      <td>58.20</td>\n",
       "      <td>25027.2400</td>\n",
       "    </tr>\n",
       "    <tr>\n",
       "      <th>2</th>\n",
       "      <td>30</td>\n",
       "      <td>3.26</td>\n",
       "      <td>67.47</td>\n",
       "      <td>28046.2009</td>\n",
       "    </tr>\n",
       "    <tr>\n",
       "      <th>3</th>\n",
       "      <td>60</td>\n",
       "      <td>4.69</td>\n",
       "      <td>37.47</td>\n",
       "      <td>18898.0009</td>\n",
       "    </tr>\n",
       "    <tr>\n",
       "      <th>4</th>\n",
       "      <td>120</td>\n",
       "      <td>5.83</td>\n",
       "      <td>45.65</td>\n",
       "      <td>21213.9225</td>\n",
       "    </tr>\n",
       "    <tr>\n",
       "      <th>5</th>\n",
       "      <td>240</td>\n",
       "      <td>6.00</td>\n",
       "      <td>32.92</td>\n",
       "      <td>17667.7264</td>\n",
       "    </tr>\n",
       "    <tr>\n",
       "      <th>6</th>\n",
       "      <td>480</td>\n",
       "      <td>6.41</td>\n",
       "      <td>29.97</td>\n",
       "      <td>16892.2009</td>\n",
       "    </tr>\n",
       "  </tbody>\n",
       "</table>\n",
       "</div>"
      ],
      "text/plain": [
       "   Time_Delay_in_Minutes  LSD_ppm  Avg_Math_Test_Score  High_Score\n",
       "0                      5     1.17                78.93  32015.9449\n",
       "1                     15     2.97                58.20  25027.2400\n",
       "2                     30     3.26                67.47  28046.2009\n",
       "3                     60     4.69                37.47  18898.0009\n",
       "4                    120     5.83                45.65  21213.9225\n",
       "5                    240     6.00                32.92  17667.7264\n",
       "6                    480     6.41                29.97  16892.2009"
      ]
     },
     "execution_count": 31,
     "metadata": {},
     "output_type": "execute_result"
    }
   ],
   "source": [
    "data"
   ]
  },
  {
   "cell_type": "code",
   "execution_count": 32,
   "metadata": {},
   "outputs": [],
   "source": [
    "del data[\"High_Score\"]"
   ]
  },
  {
   "cell_type": "code",
   "execution_count": 33,
   "metadata": {},
   "outputs": [
    {
     "data": {
      "text/html": [
       "<div>\n",
       "<style scoped>\n",
       "    .dataframe tbody tr th:only-of-type {\n",
       "        vertical-align: middle;\n",
       "    }\n",
       "\n",
       "    .dataframe tbody tr th {\n",
       "        vertical-align: top;\n",
       "    }\n",
       "\n",
       "    .dataframe thead th {\n",
       "        text-align: right;\n",
       "    }\n",
       "</style>\n",
       "<table border=\"1\" class=\"dataframe\">\n",
       "  <thead>\n",
       "    <tr style=\"text-align: right;\">\n",
       "      <th></th>\n",
       "      <th>Time_Delay_in_Minutes</th>\n",
       "      <th>LSD_ppm</th>\n",
       "      <th>Avg_Math_Test_Score</th>\n",
       "    </tr>\n",
       "  </thead>\n",
       "  <tbody>\n",
       "    <tr>\n",
       "      <th>0</th>\n",
       "      <td>5</td>\n",
       "      <td>1.17</td>\n",
       "      <td>78.93</td>\n",
       "    </tr>\n",
       "    <tr>\n",
       "      <th>1</th>\n",
       "      <td>15</td>\n",
       "      <td>2.97</td>\n",
       "      <td>58.20</td>\n",
       "    </tr>\n",
       "    <tr>\n",
       "      <th>2</th>\n",
       "      <td>30</td>\n",
       "      <td>3.26</td>\n",
       "      <td>67.47</td>\n",
       "    </tr>\n",
       "    <tr>\n",
       "      <th>3</th>\n",
       "      <td>60</td>\n",
       "      <td>4.69</td>\n",
       "      <td>37.47</td>\n",
       "    </tr>\n",
       "    <tr>\n",
       "      <th>4</th>\n",
       "      <td>120</td>\n",
       "      <td>5.83</td>\n",
       "      <td>45.65</td>\n",
       "    </tr>\n",
       "    <tr>\n",
       "      <th>5</th>\n",
       "      <td>240</td>\n",
       "      <td>6.00</td>\n",
       "      <td>32.92</td>\n",
       "    </tr>\n",
       "    <tr>\n",
       "      <th>6</th>\n",
       "      <td>480</td>\n",
       "      <td>6.41</td>\n",
       "      <td>29.97</td>\n",
       "    </tr>\n",
       "  </tbody>\n",
       "</table>\n",
       "</div>"
      ],
      "text/plain": [
       "   Time_Delay_in_Minutes  LSD_ppm  Avg_Math_Test_Score\n",
       "0                      5     1.17                78.93\n",
       "1                     15     2.97                58.20\n",
       "2                     30     3.26                67.47\n",
       "3                     60     4.69                37.47\n",
       "4                    120     5.83                45.65\n",
       "5                    240     6.00                32.92\n",
       "6                    480     6.41                29.97"
      ]
     },
     "execution_count": 33,
     "metadata": {},
     "output_type": "execute_result"
    }
   ],
   "source": [
    "data"
   ]
  },
  {
   "cell_type": "code",
   "execution_count": null,
   "metadata": {},
   "outputs": [],
   "source": []
  }
 ],
 "metadata": {
  "kernelspec": {
   "display_name": "Python 3 (ipykernel)",
   "language": "python",
   "name": "python3"
  },
  "language_info": {
   "codemirror_mode": {
    "name": "ipython",
    "version": 3
   },
   "file_extension": ".py",
   "mimetype": "text/x-python",
   "name": "python",
   "nbconvert_exporter": "python",
   "pygments_lexer": "ipython3",
   "version": "3.7.6"
  }
 },
 "nbformat": 4,
 "nbformat_minor": 4
}
