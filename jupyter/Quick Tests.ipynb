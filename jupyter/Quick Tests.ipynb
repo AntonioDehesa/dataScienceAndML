{
 "cells": [
  {
   "cell_type": "code",
   "execution_count": 1,
   "id": "01f7bdb9",
   "metadata": {},
   "outputs": [],
   "source": [
    "#imports\n",
    "from collections import namedtuple"
   ]
  },
  {
   "cell_type": "code",
   "execution_count": 2,
   "id": "9ea546a6",
   "metadata": {},
   "outputs": [],
   "source": [
    "Record = namedtuple(\"Record\",[\"MPG\",\"cylinders\",\"displacement\",\"horsepower\",\"weight\",\"acceleration\",\"Year\",\"origin\",\"carName\"])\n",
    "l = [18.0,8,307.0,130.0,3504,12.0,70,1,\"chevrolet chevelle malibu\"]"
   ]
  },
  {
   "cell_type": "code",
   "execution_count": 6,
   "id": "55e8eb7f",
   "metadata": {},
   "outputs": [],
   "source": [
    "tempRecord = Record(*l)"
   ]
  },
  {
   "cell_type": "code",
   "execution_count": 7,
   "id": "b5d59c46",
   "metadata": {},
   "outputs": [
    {
     "data": {
      "text/plain": [
       "Record(MPG=18.0, cylinders=8, displacement=307.0, horsepower=130.0, weight=3504, acceleration=12.0, Year=70, origin=1, carName='chevrolet chevelle malibu')"
      ]
     },
     "execution_count": 7,
     "metadata": {},
     "output_type": "execute_result"
    }
   ],
   "source": [
    "tempRecord"
   ]
  },
  {
   "cell_type": "code",
   "execution_count": 8,
   "id": "4603cb91",
   "metadata": {},
   "outputs": [
    {
     "data": {
      "text/plain": [
       "'chevelle malibu'"
      ]
     },
     "execution_count": 8,
     "metadata": {},
     "output_type": "execute_result"
    }
   ],
   "source": [
    "\" \".join(str(tempRecord[8]).split()[1:])"
   ]
  },
  {
   "cell_type": "code",
   "execution_count": 9,
   "id": "3405574c",
   "metadata": {},
   "outputs": [
    {
     "data": {
      "text/plain": [
       "'18.0'"
      ]
     },
     "execution_count": 9,
     "metadata": {},
     "output_type": "execute_result"
    }
   ],
   "source": [
    "str(tempRecord[0])"
   ]
  },
  {
   "cell_type": "code",
   "execution_count": 10,
   "id": "3c16d0b4",
   "metadata": {},
   "outputs": [],
   "source": [
    "a = [str(Record[8]).split()[0],\n",
    "                \" \".join(str(tempRecord[8]).split()[1:]), Record[6], Record[0]]"
   ]
  },
  {
   "cell_type": "code",
   "execution_count": 11,
   "id": "76530a09",
   "metadata": {},
   "outputs": [
    {
     "data": {
      "text/plain": [
       "['__main__.Record[8]',\n",
       " 'chevelle malibu',\n",
       " __main__.Record[6],\n",
       " __main__.Record[0]]"
      ]
     },
     "execution_count": 11,
     "metadata": {},
     "output_type": "execute_result"
    }
   ],
   "source": [
    "a"
   ]
  },
  {
   "cell_type": "code",
   "execution_count": null,
   "id": "3cbdeac7",
   "metadata": {},
   "outputs": [],
   "source": []
  }
 ],
 "metadata": {
  "kernelspec": {
   "display_name": "Python 3 (ipykernel)",
   "language": "python",
   "name": "python3"
  },
  "language_info": {
   "codemirror_mode": {
    "name": "ipython",
    "version": 3
   },
   "file_extension": ".py",
   "mimetype": "text/x-python",
   "name": "python",
   "nbconvert_exporter": "python",
   "pygments_lexer": "ipython3",
   "version": "3.9.2"
  }
 },
 "nbformat": 4,
 "nbformat_minor": 5
}
